{
 "cells": [
  {
   "cell_type": "code",
   "execution_count": 1,
   "metadata": {},
   "outputs": [],
   "source": [
    "import numpy as np"
   ]
  },
  {
   "cell_type": "code",
   "execution_count": 2,
   "metadata": {},
   "outputs": [
    {
     "ename": "SyntaxError",
     "evalue": "closing parenthesis ']' does not match opening parenthesis '{' on line 9 (1580187776.py, line 11)",
     "output_type": "error",
     "traceback": [
      "\u001b[0;36m  Cell \u001b[0;32mIn[2], line 11\u001b[0;36m\u001b[0m\n\u001b[0;31m    \"back_sup_1\": 3.2227,, 0.5]),\u001b[0m\n\u001b[0m                              ^\u001b[0m\n\u001b[0;31mSyntaxError\u001b[0m\u001b[0;31m:\u001b[0m closing parenthesis ']' does not match opening parenthesis '{' on line 9\n"
     ]
    }
   ],
   "source": [
    "coord_dict = {\n",
    "    \"tube_1\": np.array([0.251383, 0.178692, 0.5]),\n",
    "    \"back_sup_1\": np.array([0, -0.238292, 0.5]),\n",
    "    \"back_sup_2\": np.array([0, -0.39740187, 0.5]),\n",
    "    \"tube_2\": np.array([-0.251383, 0.178692, 0.5]),\n",
    "    \n",
    "}\n",
    "\n",
    "mass_dict = {\n",
    "    \"tube_1\": 61.5752,\n",
    "    \"back_sup_1\": 3.2227,,\n",
    "    \"fore_thruster\": np.array([0, 0.475723, 0.5]),\n",
    "    \"fore_thruster_support\": np.array([0, 0.314978, 0.5]),\n",
    "    \"port_thruster\": np.array([-0.251383, -0.609279, 0.5]),\n",
    "    \"starboard_thruster\": np.array([0.251383, -0.609279, 0.5]),\n",
    "    \"thruster_sup\": np.array([0, -0.5250\n",
    "    \"back_sup_2\": 1.40862,\n",
    "    \"fore_thruster\": 3.14159,\n",
    "    \"fore_thruster_support\": 3.2227,\n",
    "    \"port_thruster\": 3.14159,\n",
    "    \"starboard_thruster\": 3.14159,\n",
    "    \"thruster_sup\": 4.89023,\n",
    "    \"tube_2\": 61.5752,\n",
    "    \n",
    "}"
   ]
  },
  {
   "cell_type": "code",
   "execution_count": 3,
   "metadata": {},
   "outputs": [
    {
     "ename": "NameError",
     "evalue": "name 'mass_dict' is not defined",
     "output_type": "error",
     "traceback": [
      "\u001b[0;31m---------------------------------------------------------------------------\u001b[0m",
      "\u001b[0;31mNameError\u001b[0m                                 Traceback (most recent call last)",
      "Cell \u001b[0;32mIn[3], line 2\u001b[0m\n\u001b[1;32m      1\u001b[0m tot_mass \u001b[39m=\u001b[39m \u001b[39m0\u001b[39m\n\u001b[0;32m----> 2\u001b[0m \u001b[39mfor\u001b[39;00m link \u001b[39min\u001b[39;00m mass_dict:\n\u001b[1;32m      3\u001b[0m     tot_mass \u001b[39m+\u001b[39m\u001b[39m=\u001b[39m mass_dict[link]\n\u001b[1;32m      5\u001b[0m com \u001b[39m=\u001b[39m np\u001b[39m.\u001b[39marray([\u001b[39m0.0\u001b[39m, \u001b[39m0.0\u001b[39m, \u001b[39m0.0\u001b[39m])\n",
      "\u001b[0;31mNameError\u001b[0m: name 'mass_dict' is not defined"
     ]
    }
   ],
   "source": [
    "tot_mass = 0\n",
    "for link in mass_dict:\n",
    "    tot_mass += mass_dict[link]\n",
    "\n",
    "com = np.array([0.0, 0.0, 0.0])\n",
    "for link in coord_dict:\n",
    "    com += mass_dict[link] * coord_dict[link]\n",
    "com = com / tot_mass\n",
    "com"
   ]
  },
  {
   "cell_type": "code",
   "execution_count": null,
   "metadata": {},
   "outputs": [],
   "source": []
  }
 ],
 "metadata": {
  "kernelspec": {
   "display_name": "Python 3",
   "language": "python",
   "name": "python3"
  },
  "language_info": {
   "codemirror_mode": {
    "name": "ipython",
    "version": 3
   },
   "file_extension": ".py",
   "mimetype": "text/x-python",
   "name": "python",
   "nbconvert_exporter": "python",
   "pygments_lexer": "ipython3",
   "version": "3.10.6 (main, Nov 14 2022, 16:10:14) [GCC 11.3.0]"
  },
  "orig_nbformat": 4,
  "vscode": {
   "interpreter": {
    "hash": "916dbcbb3f70747c44a77c7bcd40155683ae19c65e1c03b4aa3499c5328201f1"
   }
  }
 },
 "nbformat": 4,
 "nbformat_minor": 2
}
